{
 "cells": [
  {
   "cell_type": "code",
   "execution_count": null,
   "metadata": {},
   "outputs": [],
   "source": [
    "#### Junior Data Operations - Coding Test    https://stylesage.co/ "
   ]
  },
  {
   "cell_type": "code",
   "execution_count": null,
   "metadata": {},
   "outputs": [],
   "source": [
    "#### Applicant: Hugo Jiménez Amigo\n",
    "##### October 15th"
   ]
  },
  {
   "cell_type": "code",
   "execution_count": null,
   "metadata": {},
   "outputs": [],
   "source": [
    "# Phase 1"
   ]
  },
  {
   "cell_type": "code",
   "execution_count": null,
   "metadata": {},
   "outputs": [],
   "source": [
    "import requests\n",
    "import random\n",
    "import csv\n",
    "import json"
   ]
  },
  {
   "cell_type": "code",
   "execution_count": null,
   "metadata": {},
   "outputs": [],
   "source": [
    "url='https://api.artic.edu/api/v1/agents?limit=50&fields=title,description,agent_type_title,agent_type_id,artwork_ids'\n",
    "headers={'AIC-User-Agent': 'aic-bash (hugo.j.amigo@gmail.com)'}\n",
    "\n",
    "responseA=requests.get(url, headers)\n",
    "print(responseA)"
   ]
  },
  {
   "cell_type": "code",
   "execution_count": null,
   "metadata": {},
   "outputs": [],
   "source": [
    "if responseA.status_code==200:\n",
    "    responseA_json=json.loads(responseA.text)"
   ]
  },
  {
   "cell_type": "code",
   "execution_count": null,
   "metadata": {},
   "outputs": [],
   "source": [
    "agents=responseA_json['data']\n",
    "print(agents)"
   ]
  },
  {
   "cell_type": "code",
   "execution_count": null,
   "metadata": {},
   "outputs": [],
   "source": [
    "individuals=[]\n",
    "for agent in agents:\n",
    "    if agent['agent_type_id'] == 7:\n",
    "        individuals.append(agent)\n",
    "           "
   ]
  },
  {
   "cell_type": "code",
   "execution_count": null,
   "metadata": {},
   "outputs": [],
   "source": [
    "for individual in individuals:\n",
    "print(individual['agent_type_id'])"
   ]
  },
  {
   "cell_type": "code",
   "execution_count": null,
   "metadata": {},
   "outputs": [],
   "source": [
    "for individual in individuals:\n",
    "    n_artwork = len(individual['artwork_ids'])\n",
    "    individual['n_artworks'] = n_artwork\n",
    "    \n",
    "    print (individuals)"
   ]
  },
  {
   "cell_type": "code",
   "execution_count": null,
   "metadata": {},
   "outputs": [],
   "source": [
    "random_individual = random.choices(individuals, k=5)"
   ]
  },
  {
   "cell_type": "code",
   "execution_count": null,
   "metadata": {},
   "outputs": [],
   "source": [
    "# Phase 2"
   ]
  },
  {
   "cell_type": "code",
   "execution_count": null,
   "metadata": {},
   "outputs": [],
   "source": [
    "for random__individual in random_individuals:\n",
    "    \n",
    "    artworks_ids = random__individual['artwork_ids']\n",
    "    random_artwork_id = random.choice(artworks_ids)\n",
    "    url=f'https://api.artic.edu/api/v1/artworks/{random_artwork_id}?fields=id,title,artist_display,place_of_origin,medium_display,dimensions'\n",
    "    headers={'AIC-User-Agent': 'aic-bash (hugo.j.amigo@gmail.com)'}\n",
    "    \n",
    "    responseAR=requests.get(url, headers)\n",
    "    \n",
    "    random__individual['random_artwork_id'] = responseAR.json()['data']['id']\n",
    "    random__individual['random_artwork_title'] = responseAR.json()['data']['title']\n",
    "    random__individual['random_artwork_artist_display'] = responseAR.json()['data']['artist_display']\n",
    "    random__individual['random_artwork_place_of_origin'] = responseAR.json()['data']['place_of_origin'] \n",
    "    random__individual['random_artwork_medium_display'] = responseAR.json()['data']['medium_display'] \n",
    "    random__individual['random_artwork_dimensions'] = responseAR.json()['data']['dimensions']\n",
    "        \n",
    "print(random_individuals)"
   ]
  },
  {
   "cell_type": "code",
   "execution_count": null,
   "metadata": {},
   "outputs": [],
   "source": []
  },
  {
   "cell_type": "code",
   "execution_count": null,
   "metadata": {},
   "outputs": [],
   "source": []
  },
  {
   "cell_type": "code",
   "execution_count": null,
   "metadata": {},
   "outputs": [],
   "source": []
  },
  {
   "cell_type": "code",
   "execution_count": null,
   "metadata": {},
   "outputs": [],
   "source": []
  },
  {
   "cell_type": "code",
   "execution_count": null,
   "metadata": {},
   "outputs": [],
   "source": []
  }
 ],
 "metadata": {
  "kernelspec": {
   "display_name": "Python 3",
   "language": "python",
   "name": "python3"
  },
  "language_info": {
   "codemirror_mode": {
    "name": "ipython",
    "version": 3
   },
   "file_extension": ".py",
   "mimetype": "text/x-python",
   "name": "python",
   "nbconvert_exporter": "python",
   "pygments_lexer": "ipython3",
   "version": "3.8.5"
  }
 },
 "nbformat": 4,
 "nbformat_minor": 4
}
