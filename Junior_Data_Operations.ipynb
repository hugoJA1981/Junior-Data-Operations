{
 "cells": [
  {
   "cell_type": "code",
   "execution_count": null,
   "metadata": {},
   "outputs": [],
   "source": [
    "#### Junior Data Operations - Coding Test    https://stylesage.co/ "
   ]
  },
  {
   "cell_type": "code",
   "execution_count": null,
   "metadata": {},
   "outputs": [],
   "source": [
    "#### Applicant: Hugo Jiménez Amigo\n",
    "##### October 15th"
   ]
  },
  {
   "cell_type": "code",
   "execution_count": null,
   "metadata": {},
   "outputs": [],
   "source": [
    "import requests\n",
    "import random\n",
    "import csv\n",
    "import json"
   ]
  },
  {
   "cell_type": "code",
   "execution_count": null,
   "metadata": {},
   "outputs": [],
   "source": [
    "url='https://api.artic.edu/api/v1/agents?limit=50&fields=title,description,agent_type_title,agent_type_id,artwork_ids'\n",
    "headers={'AIC-User-Agent': 'aic-bash (hugo.j.amigo@gmail.com)'}\n",
    "\n",
    "responseA=requests.get(url, headers)\n",
    "print(responseA)"
   ]
  },
  {
   "cell_type": "code",
   "execution_count": null,
   "metadata": {},
   "outputs": [],
   "source": [
    "if responseA.status_code==200:\n",
    "    responseA_json=json.loads(responseA.text)"
   ]
  },
  {
   "cell_type": "code",
   "execution_count": null,
   "metadata": {},
   "outputs": [],
   "source": [
    "agents=responseA_json['data']\n",
    "print(agents)"
   ]
  },
  {
   "cell_type": "code",
   "execution_count": null,
   "metadata": {},
   "outputs": [],
   "source": [
    "individuals=[]\n",
    "for agent in agents:\n",
    "    if agent['agent_type_id'] == 7:\n",
    "        individuals.append(agent)\n",
    "           "
   ]
  },
  {
   "cell_type": "code",
   "execution_count": null,
   "metadata": {},
   "outputs": [],
   "source": [
    "for individual in individuals:\n",
    "print(individual['agent_type_id'])"
   ]
  },
  {
   "cell_type": "code",
   "execution_count": null,
   "metadata": {},
   "outputs": [],
   "source": [
    "for individual in individuals:\n",
    "    n_artwork = len(individual['artwork_ids'])\n",
    "    individual['n_artworks'] = n_artwork\n",
    "    \n",
    "    print (individuals)"
   ]
  }
 ],
 "metadata": {
  "kernelspec": {
   "display_name": "Python 3",
   "language": "python",
   "name": "python3"
  },
  "language_info": {
   "codemirror_mode": {
    "name": "ipython",
    "version": 3
   },
   "file_extension": ".py",
   "mimetype": "text/x-python",
   "name": "python",
   "nbconvert_exporter": "python",
   "pygments_lexer": "ipython3",
   "version": "3.8.5"
  }
 },
 "nbformat": 4,
 "nbformat_minor": 4
}
